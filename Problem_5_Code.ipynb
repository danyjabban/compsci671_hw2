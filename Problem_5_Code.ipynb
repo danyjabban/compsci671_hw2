{
 "cells": [
  {
   "cell_type": "markdown",
   "metadata": {},
   "source": [
    "### 5.2 {-}"
   ]
  },
  {
   "cell_type": "code",
   "execution_count": 10,
   "metadata": {},
   "outputs": [],
   "source": [
    "import math\n",
    "import random\n",
    "\n",
    "\n",
    "def preprocess():\n",
    "    '''\n",
    "    creates two lists:\n",
    "    reviews: list of dictionaries, each dictionary maps to a review \n",
    "    where the keys are the index of a word in the vocabulary and the value is 1\n",
    "    rev_sent: list of review sentiment, elements are either 1 or 0\n",
    "    '''\n",
    "    vocab_dict = {}\n",
    "    with open('dict.txt') as f:\n",
    "        for line in f:\n",
    "            vocab_dict[line.split(\" \")[0].strip(\"\\n\")] = int(line.split(\" \")[1].strip(\"\\n\"))\n",
    "    vocab_dict # vocab dictionary\n",
    "\n",
    "    reviews = [] # list of dictionaries of word indecies per review\n",
    "    rev_sent = [] # list of review sentiments\n",
    "    i = 0\n",
    "    with open(\"moviereview.tsv\") as f:\n",
    "        for line in f:\n",
    "            feature_vector = {}\n",
    "            l=line.split('\\t')\n",
    "            for word in l[1].split(' '):\n",
    "                if word in vocab_dict.keys():\n",
    "                    feature_vector[vocab_dict[word]] = 1\n",
    "            reviews.append(feature_vector)\n",
    "            i += 1\n",
    "            for review in l[0]:\n",
    "                rev_sent.append(int(review))\n",
    "                \n",
    "    return reviews, len(vocab_dict.keys()), rev_sent\n"
   ]
  },
  {
   "cell_type": "markdown",
   "metadata": {},
   "source": [
    "### 5.3 {-}"
   ]
  },
  {
   "cell_type": "code",
   "execution_count": 11,
   "metadata": {},
   "outputs": [],
   "source": [
    "def train_test_split(reviews, rev_sent):\n",
    "    '''\n",
    "    split data into train and test subsets\n",
    "    '''\n",
    "    X_test = []\n",
    "    y_test = []\n",
    "    test_perc = .2 # test percentage\n",
    "    num_obs = len(rev_sent)\n",
    "    while len(y_test) < num_obs*test_perc:\n",
    "        index = random.randint(0,len(reviews)-1)\n",
    "        X_test.append(reviews.pop(index))\n",
    "        y_test.append(rev_sent.pop(index))\n",
    "    return reviews , rev_sent, X_test, y_test"
   ]
  },
  {
   "cell_type": "code",
   "execution_count": 12,
   "metadata": {},
   "outputs": [],
   "source": [
    "def weight_update(data_points, epochs, feature_vec_len, review_list):\n",
    "    '''\n",
    "    iterate through t epochs\n",
    "    update weight at each epoch\n",
    "    '''\n",
    "    feature_vector = {i:0 for i in range(feature_vec_len)}\n",
    "    for t in range(epochs): # iterate through epochs t\n",
    "        vector_update = []\n",
    "        for i in range(len(feature_vector.keys())): # iterate through theta vector i\n",
    "            grad_sum = 0 # sum of gradients for all observations for each theta\n",
    "            for j in range(len(data_points)): # iterate through observations j\n",
    "                if i in data_points[j].keys(): # if feature i is in review j\n",
    "                    vec_i_sum = 0 # dot product sum\n",
    "                    for k in data_points[j].keys(): # iterate through words in (observation j) k\n",
    "                        vec_i_sum += feature_vector[int(k)]\n",
    "\n",
    "                    grad = (-1)*review_list[j] + (1/(1+math.e**(-vec_i_sum))) # gradient\n",
    "                    grad_sum += grad\n",
    "            vector_update.append(.1*(1/len(data_points))*grad_sum)\n",
    "        for theta in range(len(vector_update)): # update thetas at end of epoch\n",
    "            feature_vector[theta] = feature_vector[theta] - vector_update[theta] \n",
    "                \n",
    "    return feature_vector"
   ]
  },
  {
   "cell_type": "code",
   "execution_count": 13,
   "metadata": {},
   "outputs": [],
   "source": [
    "def predict(theta, x):\n",
    "    '''\n",
    "    create list of predicted y values \n",
    "    thershold is set at .5\n",
    "    '''\n",
    "    prob = []\n",
    "    pred_y = []\n",
    "    for words in x:\n",
    "        sum = 0\n",
    "        for i in words:\n",
    "            sum += theta[i]\n",
    "        p = 1/(1+math.e**(-sum))\n",
    "        prob.append(p)\n",
    "        py = 0\n",
    "        if p >= .5:\n",
    "            py = 1\n",
    "        pred_y.append(py)\n",
    "    return pred_y"
   ]
  },
  {
   "cell_type": "code",
   "execution_count": 14,
   "metadata": {},
   "outputs": [
    {
     "name": "stdout",
     "output_type": "stream",
     "text": [
      "#################\n",
      "training accuracy: 95.625\n",
      "#################\n",
      "#################\n",
      "testing accuracy: 86.25\n",
      "#################\n"
     ]
    }
   ],
   "source": [
    "reviews, feature_vec_len, rev_sent = preprocess()\n",
    "X_train , y_train, X_test, y_test = train_test_split(reviews, rev_sent)\n",
    "epochs = 30\n",
    "feature_vector = weight_update(X_train, epochs, feature_vec_len, rev_sent)\n",
    "pred_y = predict(feature_vector, X_train)\n",
    "\n",
    "# get number of correct training data predictions\n",
    "correct_count = 0\n",
    "for i in range(len(pred_y)):\n",
    "    if pred_y[i] == y_train[i]:\n",
    "        correct_count += 1\n",
    "\n",
    "\n",
    "training_accuracy =  correct_count/len(pred_y)*100\n",
    "\n",
    "print('#################')\n",
    "print('training accuracy:', training_accuracy )\n",
    "print('#################')\n",
    "\n",
    "pred_y = predict(feature_vector, X_test)\n",
    "\n",
    "correct_count = 0\n",
    "for i in range(len(pred_y)):\n",
    "    if pred_y[i] == y_test[i]:\n",
    "        correct_count += 1\n",
    "\n",
    "testing_accuracy =  correct_count/len(pred_y)*100\n",
    "\n",
    "print('#################')\n",
    "print('testing accuracy:', testing_accuracy )\n",
    "print('#################')\n",
    "\n",
    "\n"
   ]
  }
 ],
 "metadata": {
  "kernelspec": {
   "display_name": "Python 3.10.6 ('base')",
   "language": "python",
   "name": "python3"
  },
  "language_info": {
   "codemirror_mode": {
    "name": "ipython",
    "version": 3
   },
   "file_extension": ".py",
   "mimetype": "text/x-python",
   "name": "python",
   "nbconvert_exporter": "python",
   "pygments_lexer": "ipython3",
   "version": "3.10.6"
  },
  "orig_nbformat": 4,
  "vscode": {
   "interpreter": {
    "hash": "88caf069edf20051aa562fca5c59ddb764012baca65fbe1d1bef7ace59050dda"
   }
  }
 },
 "nbformat": 4,
 "nbformat_minor": 2
}
